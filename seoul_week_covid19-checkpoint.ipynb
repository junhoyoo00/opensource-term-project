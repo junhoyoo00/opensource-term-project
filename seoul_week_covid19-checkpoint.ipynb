{
 "cells": [
  {
   "cell_type": "code",
   "execution_count": 313,
   "id": "a03664b5",
   "metadata": {},
   "outputs": [
    {
     "data": {
      "text/plain": [
       "8"
      ]
     },
     "execution_count": 313,
     "metadata": {},
     "output_type": "execute_result"
    }
   ],
   "source": [
    "import pandas as pd\n",
    "import matplotlib as mpl           \n",
    "import matplotlib.pyplot as plt    \n",
    "import numpy as np \n",
    "\n",
    "url=\"https://www.seoul.go.kr/coronaV/coronaStatus.do\"\n",
    "url\n",
    "\n",
    "table = pd.read_html(url)\n",
    "len(table)\n"
   ]
  },
  {
   "cell_type": "code",
   "execution_count": 314,
   "id": "87f89512",
   "metadata": {},
   "outputs": [
    {
     "data": {
      "text/html": [
       "<div>\n",
       "<style scoped>\n",
       "    .dataframe tbody tr th:only-of-type {\n",
       "        vertical-align: middle;\n",
       "    }\n",
       "\n",
       "    .dataframe tbody tr th {\n",
       "        vertical-align: top;\n",
       "    }\n",
       "\n",
       "    .dataframe thead th {\n",
       "        text-align: right;\n",
       "    }\n",
       "</style>\n",
       "<table border=\"1\" class=\"dataframe\">\n",
       "  <thead>\n",
       "    <tr style=\"text-align: right;\">\n",
       "      <th></th>\n",
       "      <th>일자</th>\n",
       "      <th>12.11.</th>\n",
       "      <th>12.10.</th>\n",
       "      <th>12.9.</th>\n",
       "      <th>12.8.</th>\n",
       "      <th>12.7.</th>\n",
       "      <th>12.6.</th>\n",
       "      <th>12.5.</th>\n",
       "    </tr>\n",
       "  </thead>\n",
       "  <tbody>\n",
       "    <tr>\n",
       "      <th>0</th>\n",
       "      <td>검사자(명)</td>\n",
       "      <td>104285.0</td>\n",
       "      <td>152569.0</td>\n",
       "      <td>151126.0</td>\n",
       "      <td>148171.0</td>\n",
       "      <td>141049.0</td>\n",
       "      <td>148597.0</td>\n",
       "      <td>73692.0</td>\n",
       "    </tr>\n",
       "    <tr>\n",
       "      <th>1</th>\n",
       "      <td>확진자(명)</td>\n",
       "      <td>2528.0</td>\n",
       "      <td>2835.0</td>\n",
       "      <td>2800.0</td>\n",
       "      <td>2790.0</td>\n",
       "      <td>2901.0</td>\n",
       "      <td>2120.0</td>\n",
       "      <td>1408.0</td>\n",
       "    </tr>\n",
       "    <tr>\n",
       "      <th>2</th>\n",
       "      <td>확진율(%)</td>\n",
       "      <td>1.7</td>\n",
       "      <td>1.9</td>\n",
       "      <td>1.9</td>\n",
       "      <td>2.0</td>\n",
       "      <td>2.0</td>\n",
       "      <td>2.9</td>\n",
       "      <td>1.4</td>\n",
       "    </tr>\n",
       "  </tbody>\n",
       "</table>\n",
       "</div>"
      ],
      "text/plain": [
       "       일자    12.11.    12.10.     12.9.     12.8.     12.7.     12.6.    12.5.\n",
       "0  검사자(명)  104285.0  152569.0  151126.0  148171.0  141049.0  148597.0  73692.0\n",
       "1  확진자(명)    2528.0    2835.0    2800.0    2790.0    2901.0    2120.0   1408.0\n",
       "2  확진율(%)       1.7       1.9       1.9       2.0       2.0       2.9      1.4"
      ]
     },
     "execution_count": 314,
     "metadata": {},
     "output_type": "execute_result"
    }
   ],
   "source": [
    "df=table[3]\n",
    "df\n"
   ]
  },
  {
   "cell_type": "code",
   "execution_count": 346,
   "id": "2b445a09",
   "metadata": {},
   "outputs": [
    {
     "data": {
      "text/html": [
       "<div>\n",
       "<style scoped>\n",
       "    .dataframe tbody tr th:only-of-type {\n",
       "        vertical-align: middle;\n",
       "    }\n",
       "\n",
       "    .dataframe tbody tr th {\n",
       "        vertical-align: top;\n",
       "    }\n",
       "\n",
       "    .dataframe thead th {\n",
       "        text-align: right;\n",
       "    }\n",
       "</style>\n",
       "<table border=\"1\" class=\"dataframe\">\n",
       "  <thead>\n",
       "    <tr style=\"text-align: right;\">\n",
       "      <th></th>\n",
       "      <th>0</th>\n",
       "      <th>1</th>\n",
       "      <th>2</th>\n",
       "    </tr>\n",
       "  </thead>\n",
       "  <tbody>\n",
       "    <tr>\n",
       "      <th>일자</th>\n",
       "      <td>검사자(명)</td>\n",
       "      <td>확진자(명)</td>\n",
       "      <td>확진율(%)</td>\n",
       "    </tr>\n",
       "    <tr>\n",
       "      <th>12.11.</th>\n",
       "      <td>104285.0</td>\n",
       "      <td>2528.0</td>\n",
       "      <td>1.7</td>\n",
       "    </tr>\n",
       "    <tr>\n",
       "      <th>12.10.</th>\n",
       "      <td>152569.0</td>\n",
       "      <td>2835.0</td>\n",
       "      <td>1.9</td>\n",
       "    </tr>\n",
       "    <tr>\n",
       "      <th>12.9.</th>\n",
       "      <td>151126.0</td>\n",
       "      <td>2800.0</td>\n",
       "      <td>1.9</td>\n",
       "    </tr>\n",
       "    <tr>\n",
       "      <th>12.8.</th>\n",
       "      <td>148171.0</td>\n",
       "      <td>2790.0</td>\n",
       "      <td>2.0</td>\n",
       "    </tr>\n",
       "    <tr>\n",
       "      <th>12.7.</th>\n",
       "      <td>141049.0</td>\n",
       "      <td>2901.0</td>\n",
       "      <td>2.0</td>\n",
       "    </tr>\n",
       "    <tr>\n",
       "      <th>12.6.</th>\n",
       "      <td>148597.0</td>\n",
       "      <td>2120.0</td>\n",
       "      <td>2.9</td>\n",
       "    </tr>\n",
       "    <tr>\n",
       "      <th>12.5.</th>\n",
       "      <td>73692.0</td>\n",
       "      <td>1408.0</td>\n",
       "      <td>1.4</td>\n",
       "    </tr>\n",
       "  </tbody>\n",
       "</table>\n",
       "</div>"
      ],
      "text/plain": [
       "               0       1       2\n",
       "일자        검사자(명)  확진자(명)  확진율(%)\n",
       "12.11.  104285.0  2528.0     1.7\n",
       "12.10.  152569.0  2835.0     1.9\n",
       "12.9.   151126.0  2800.0     1.9\n",
       "12.8.   148171.0  2790.0     2.0\n",
       "12.7.   141049.0  2901.0     2.0\n",
       "12.6.   148597.0  2120.0     2.9\n",
       "12.5.    73692.0  1408.0     1.4"
      ]
     },
     "execution_count": 346,
     "metadata": {},
     "output_type": "execute_result"
    }
   ],
   "source": [
    "ddf=df.T\n",
    "ddf"
   ]
  },
  {
   "cell_type": "code",
   "execution_count": 321,
   "id": "79070c1a",
   "metadata": {},
   "outputs": [
    {
     "data": {
      "text/html": [
       "<div>\n",
       "<style scoped>\n",
       "    .dataframe tbody tr th:only-of-type {\n",
       "        vertical-align: middle;\n",
       "    }\n",
       "\n",
       "    .dataframe tbody tr th {\n",
       "        vertical-align: top;\n",
       "    }\n",
       "\n",
       "    .dataframe thead th {\n",
       "        text-align: right;\n",
       "    }\n",
       "</style>\n",
       "<table border=\"1\" class=\"dataframe\">\n",
       "  <thead>\n",
       "    <tr style=\"text-align: right;\">\n",
       "      <th></th>\n",
       "      <th>12.11.</th>\n",
       "      <th>12.10.</th>\n",
       "      <th>12.9.</th>\n",
       "      <th>12.8.</th>\n",
       "      <th>12.7.</th>\n",
       "      <th>12.6.</th>\n",
       "      <th>12.5.</th>\n",
       "    </tr>\n",
       "  </thead>\n",
       "  <tbody>\n",
       "    <tr>\n",
       "      <th>0</th>\n",
       "      <td>104285.0</td>\n",
       "      <td>152569.0</td>\n",
       "      <td>151126.0</td>\n",
       "      <td>148171.0</td>\n",
       "      <td>141049.0</td>\n",
       "      <td>148597.0</td>\n",
       "      <td>73692.0</td>\n",
       "    </tr>\n",
       "    <tr>\n",
       "      <th>1</th>\n",
       "      <td>2528.0</td>\n",
       "      <td>2835.0</td>\n",
       "      <td>2800.0</td>\n",
       "      <td>2790.0</td>\n",
       "      <td>2901.0</td>\n",
       "      <td>2120.0</td>\n",
       "      <td>1408.0</td>\n",
       "    </tr>\n",
       "    <tr>\n",
       "      <th>2</th>\n",
       "      <td>1.7</td>\n",
       "      <td>1.9</td>\n",
       "      <td>1.9</td>\n",
       "      <td>2.0</td>\n",
       "      <td>2.0</td>\n",
       "      <td>2.9</td>\n",
       "      <td>1.4</td>\n",
       "    </tr>\n",
       "  </tbody>\n",
       "</table>\n",
       "</div>"
      ],
      "text/plain": [
       "     12.11.    12.10.     12.9.     12.8.     12.7.     12.6.    12.5.\n",
       "0  104285.0  152569.0  151126.0  148171.0  141049.0  148597.0  73692.0\n",
       "1    2528.0    2835.0    2800.0    2790.0    2901.0    2120.0   1408.0\n",
       "2       1.7       1.9       1.9       2.0       2.0       2.9      1.4"
      ]
     },
     "execution_count": 321,
     "metadata": {},
     "output_type": "execute_result"
    }
   ],
   "source": [
    "sdf=df.drop(['일자'],axis=1)\n",
    "sdf"
   ]
  },
  {
   "cell_type": "code",
   "execution_count": 319,
   "id": "c19ab3f3",
   "metadata": {},
   "outputs": [
    {
     "data": {
      "text/html": [
       "<div>\n",
       "<style scoped>\n",
       "    .dataframe tbody tr th:only-of-type {\n",
       "        vertical-align: middle;\n",
       "    }\n",
       "\n",
       "    .dataframe tbody tr th {\n",
       "        vertical-align: top;\n",
       "    }\n",
       "\n",
       "    .dataframe thead th {\n",
       "        text-align: right;\n",
       "    }\n",
       "</style>\n",
       "<table border=\"1\" class=\"dataframe\">\n",
       "  <thead>\n",
       "    <tr style=\"text-align: right;\">\n",
       "      <th></th>\n",
       "      <th>검사자(명)</th>\n",
       "      <th>확진자(명)</th>\n",
       "      <th>확진율(%)</th>\n",
       "    </tr>\n",
       "  </thead>\n",
       "  <tbody>\n",
       "    <tr>\n",
       "      <th>12.11.</th>\n",
       "      <td>104285.0</td>\n",
       "      <td>2528.0</td>\n",
       "      <td>1.7</td>\n",
       "    </tr>\n",
       "    <tr>\n",
       "      <th>12.10.</th>\n",
       "      <td>152569.0</td>\n",
       "      <td>2835.0</td>\n",
       "      <td>1.9</td>\n",
       "    </tr>\n",
       "    <tr>\n",
       "      <th>12.9.</th>\n",
       "      <td>151126.0</td>\n",
       "      <td>2800.0</td>\n",
       "      <td>1.9</td>\n",
       "    </tr>\n",
       "    <tr>\n",
       "      <th>12.8.</th>\n",
       "      <td>148171.0</td>\n",
       "      <td>2790.0</td>\n",
       "      <td>2.0</td>\n",
       "    </tr>\n",
       "    <tr>\n",
       "      <th>12.7.</th>\n",
       "      <td>141049.0</td>\n",
       "      <td>2901.0</td>\n",
       "      <td>2.0</td>\n",
       "    </tr>\n",
       "    <tr>\n",
       "      <th>12.6.</th>\n",
       "      <td>148597.0</td>\n",
       "      <td>2120.0</td>\n",
       "      <td>2.9</td>\n",
       "    </tr>\n",
       "    <tr>\n",
       "      <th>12.5.</th>\n",
       "      <td>73692.0</td>\n",
       "      <td>1408.0</td>\n",
       "      <td>1.4</td>\n",
       "    </tr>\n",
       "  </tbody>\n",
       "</table>\n",
       "</div>"
      ],
      "text/plain": [
       "          검사자(명)  확진자(명)  확진율(%)\n",
       "12.11.  104285.0  2528.0     1.7\n",
       "12.10.  152569.0  2835.0     1.9\n",
       "12.9.   151126.0  2800.0     1.9\n",
       "12.8.   148171.0  2790.0     2.0\n",
       "12.7.   141049.0  2901.0     2.0\n",
       "12.6.   148597.0  2120.0     2.9\n",
       "12.5.    73692.0  1408.0     1.4"
      ]
     },
     "execution_count": 319,
     "metadata": {},
     "output_type": "execute_result"
    }
   ],
   "source": [
    "ssdf=sdf.T\n",
    "ssdf.columns=('검사자(명)','확진자(명)','확진율(%)')\n",
    "ssdf\n"
   ]
  },
  {
   "cell_type": "code",
   "execution_count": null,
   "id": "8adec3ec",
   "metadata": {},
   "outputs": [],
   "source": [
    "pd.melt()"
   ]
  },
  {
   "cell_type": "code",
   "execution_count": 355,
   "id": "c818cc07",
   "metadata": {},
   "outputs": [
    {
     "data": {
      "text/plain": [
       "검사자(명)    104285.0\n",
       "확진자(명)      2528.0\n",
       "확진율(%)         1.7\n",
       "Name: 12.11., dtype: float64"
      ]
     },
     "execution_count": 355,
     "metadata": {},
     "output_type": "execute_result"
    }
   ],
   "source": [
    "s1df = ssdf.loc['12.11.']\n",
    "type(s1df)\n",
    "s1df"
   ]
  },
  {
   "cell_type": "code",
   "execution_count": 356,
   "id": "c458e0cc",
   "metadata": {},
   "outputs": [
    {
     "data": {
      "text/plain": [
       "검사자(명)    152569.0\n",
       "확진자(명)      2835.0\n",
       "확진율(%)         1.9\n",
       "Name: 12.10., dtype: float64"
      ]
     },
     "execution_count": 356,
     "metadata": {},
     "output_type": "execute_result"
    }
   ],
   "source": [
    "s2df = ssdf.loc['12.10.']\n",
    "s2df"
   ]
  },
  {
   "cell_type": "code",
   "execution_count": 357,
   "id": "007eec68",
   "metadata": {},
   "outputs": [
    {
     "data": {
      "text/plain": [
       "검사자(명)    151126.0\n",
       "확진자(명)      2800.0\n",
       "확진율(%)         1.9\n",
       "Name: 12.9., dtype: float64"
      ]
     },
     "execution_count": 357,
     "metadata": {},
     "output_type": "execute_result"
    }
   ],
   "source": [
    "s3df = ssdf.loc['12.9.']\n",
    "s3df"
   ]
  },
  {
   "cell_type": "code",
   "execution_count": 358,
   "id": "6112fa2b",
   "metadata": {},
   "outputs": [
    {
     "data": {
      "text/plain": [
       "검사자(명)    148171.0\n",
       "확진자(명)      2790.0\n",
       "확진율(%)         2.0\n",
       "Name: 12.8., dtype: float64"
      ]
     },
     "execution_count": 358,
     "metadata": {},
     "output_type": "execute_result"
    }
   ],
   "source": [
    "s4df = ssdf.loc['12.8.']\n",
    "s4df"
   ]
  },
  {
   "cell_type": "code",
   "execution_count": 359,
   "id": "e23b142f",
   "metadata": {},
   "outputs": [
    {
     "data": {
      "text/plain": [
       "검사자(명)    141049.0\n",
       "확진자(명)      2901.0\n",
       "확진율(%)         2.0\n",
       "Name: 12.7., dtype: float64"
      ]
     },
     "execution_count": 359,
     "metadata": {},
     "output_type": "execute_result"
    }
   ],
   "source": [
    "s5df = ssdf.loc['12.7.']\n",
    "s5df"
   ]
  },
  {
   "cell_type": "code",
   "execution_count": 360,
   "id": "c9d34a02",
   "metadata": {},
   "outputs": [
    {
     "data": {
      "text/plain": [
       "검사자(명)    148597.0\n",
       "확진자(명)      2120.0\n",
       "확진율(%)         2.9\n",
       "Name: 12.6., dtype: float64"
      ]
     },
     "execution_count": 360,
     "metadata": {},
     "output_type": "execute_result"
    }
   ],
   "source": [
    "s6df = ssdf.loc['12.6.']\n",
    "s6df"
   ]
  },
  {
   "cell_type": "code",
   "execution_count": 361,
   "id": "a116f04b",
   "metadata": {},
   "outputs": [
    {
     "data": {
      "text/plain": [
       "검사자(명)    73692.0\n",
       "확진자(명)     1408.0\n",
       "확진율(%)        1.4\n",
       "Name: 12.5., dtype: float64"
      ]
     },
     "execution_count": 361,
     "metadata": {},
     "output_type": "execute_result"
    }
   ],
   "source": [
    "s7df = ssdf.loc['12.5.']\n",
    "s7df"
   ]
  },
  {
   "cell_type": "code",
   "execution_count": 362,
   "id": "54aa7e43",
   "metadata": {},
   "outputs": [],
   "source": [
    "filename0=\"seoul_week_covid19.csv\"\n",
    "ssdf.to_csv(filename0,index=True)\n",
    "\n"
   ]
  },
  {
   "cell_type": "code",
   "execution_count": 363,
   "id": "991cbe16",
   "metadata": {},
   "outputs": [
    {
     "data": {
      "text/html": [
       "<div>\n",
       "<style scoped>\n",
       "    .dataframe tbody tr th:only-of-type {\n",
       "        vertical-align: middle;\n",
       "    }\n",
       "\n",
       "    .dataframe tbody tr th {\n",
       "        vertical-align: top;\n",
       "    }\n",
       "\n",
       "    .dataframe thead th {\n",
       "        text-align: right;\n",
       "    }\n",
       "</style>\n",
       "<table border=\"1\" class=\"dataframe\">\n",
       "  <thead>\n",
       "    <tr style=\"text-align: right;\">\n",
       "      <th></th>\n",
       "      <th>Unnamed: 0</th>\n",
       "      <th>검사자(명)</th>\n",
       "      <th>확진자(명)</th>\n",
       "      <th>확진율(%)</th>\n",
       "    </tr>\n",
       "  </thead>\n",
       "  <tbody>\n",
       "    <tr>\n",
       "      <th>0</th>\n",
       "      <td>12.11.</td>\n",
       "      <td>104285.0</td>\n",
       "      <td>2528.0</td>\n",
       "      <td>1.7</td>\n",
       "    </tr>\n",
       "    <tr>\n",
       "      <th>1</th>\n",
       "      <td>12.10.</td>\n",
       "      <td>152569.0</td>\n",
       "      <td>2835.0</td>\n",
       "      <td>1.9</td>\n",
       "    </tr>\n",
       "    <tr>\n",
       "      <th>2</th>\n",
       "      <td>12.9.</td>\n",
       "      <td>151126.0</td>\n",
       "      <td>2800.0</td>\n",
       "      <td>1.9</td>\n",
       "    </tr>\n",
       "    <tr>\n",
       "      <th>3</th>\n",
       "      <td>12.8.</td>\n",
       "      <td>148171.0</td>\n",
       "      <td>2790.0</td>\n",
       "      <td>2.0</td>\n",
       "    </tr>\n",
       "    <tr>\n",
       "      <th>4</th>\n",
       "      <td>12.7.</td>\n",
       "      <td>141049.0</td>\n",
       "      <td>2901.0</td>\n",
       "      <td>2.0</td>\n",
       "    </tr>\n",
       "    <tr>\n",
       "      <th>5</th>\n",
       "      <td>12.6.</td>\n",
       "      <td>148597.0</td>\n",
       "      <td>2120.0</td>\n",
       "      <td>2.9</td>\n",
       "    </tr>\n",
       "    <tr>\n",
       "      <th>6</th>\n",
       "      <td>12.5.</td>\n",
       "      <td>73692.0</td>\n",
       "      <td>1408.0</td>\n",
       "      <td>1.4</td>\n",
       "    </tr>\n",
       "  </tbody>\n",
       "</table>\n",
       "</div>"
      ],
      "text/plain": [
       "  Unnamed: 0    검사자(명)  확진자(명)  확진율(%)\n",
       "0     12.11.  104285.0  2528.0     1.7\n",
       "1     12.10.  152569.0  2835.0     1.9\n",
       "2      12.9.  151126.0  2800.0     1.9\n",
       "3      12.8.  148171.0  2790.0     2.0\n",
       "4      12.7.  141049.0  2901.0     2.0\n",
       "5      12.6.  148597.0  2120.0     2.9\n",
       "6      12.5.   73692.0  1408.0     1.4"
      ]
     },
     "execution_count": 363,
     "metadata": {},
     "output_type": "execute_result"
    }
   ],
   "source": [
    "pd.read_csv(filename0)"
   ]
  },
  {
   "cell_type": "code",
   "execution_count": 364,
   "id": "35fe4309",
   "metadata": {},
   "outputs": [
    {
     "data": {
      "text/plain": [
       "검사자(명)    131355.571429\n",
       "확진자(명)      2483.142857\n",
       "확진율(%)         1.971429\n",
       "dtype: float64"
      ]
     },
     "execution_count": 364,
     "metadata": {},
     "output_type": "execute_result"
    }
   ],
   "source": [
    "ssdf.mean(axis=0)"
   ]
  },
  {
   "cell_type": "code",
   "execution_count": 365,
   "id": "cbabc099",
   "metadata": {},
   "outputs": [
    {
     "data": {
      "text/plain": [
       "[<matplotlib.lines.Line2D at 0x1d8af03c430>]"
      ]
     },
     "execution_count": 365,
     "metadata": {},
     "output_type": "execute_result"
    },
    {
     "data": {
      "image/png": "[encoded data removed]",
      "text/plain": [
       "<Figure size 432x288 with 1 Axes>"
      ]
     },
     "metadata": {
      "needs_background": "light"
     },
     "output_type": "display_data"
    }
   ],
   "source": [
    "fig=plt.figure()\n",
    "axes1=fig.add_subplot(1,7,1)\n",
    "axes1.plot(s1df['검사자(명)'],s1df['확진자(명)'],'o')"
   ]
  },
  {
   "cell_type": "code",
   "execution_count": 374,
   "id": "e43a91fd",
   "metadata": {
    "scrolled": true
   },
   "outputs": [
    {
     "data": {
      "image/png": "[encoded data removed]",
      "text/plain": [
       "<Figure size 432x288 with 7 Axes>"
      ]
     },
     "metadata": {
      "needs_background": "light"
     },
     "output_type": "display_data"
    }
   ],
   "source": [
    "fig=plt.figure()\n",
    "axes1=fig.add_subplot(3,3,1)\n",
    "axes2=fig.add_subplot(3,3,2)\n",
    "axes3=fig.add_subplot(3,3,3)\n",
    "axes4=fig.add_subplot(3,3,4)\n",
    "axes5=fig.add_subplot(3,3,5)\n",
    "axes6=fig.add_subplot(3,3,6)\n",
    "axes7=fig.add_subplot(3,3,7)\n",
    "\n",
    "axes1.plot(s7df['검사자(명)'],s7df['확진자(명)'],'o')\n",
    "axes2.plot(s6df['검사자(명)'],s6df['확진자(명)'],'o')\n",
    "axes3.plot(s5df['검사자(명)'],s5df['확진자(명)'],'o')\n",
    "axes4.plot(s4df['검사자(명)'],s4df['확진자(명)'],'o')\n",
    "axes5.plot(s3df['검사자(명)'],s3df['확진자(명)'],'o')\n",
    "axes6.plot(s2df['검사자(명)'],s2df['확진자(명)'],'o')\n",
    "axes7.plot(s1df['검사자(명)'],s1df['확진자(명)'],'o')\n",
    "\n",
    "fig.suptitle('seoul_week_covid19')\n",
    "axes1.set_title(12.5)\n",
    "axes2.set_title(12.6)\n",
    "axes3.set_title(12.7)\n",
    "axes4.set_title(12.8)\n",
    "axes5.set_title(12.9)\n",
    "axes6.set_title(12.10)\n",
    "axes7.set_title(12.11)\n",
    "fig.tight_layout()"
   ]
  },
  {
   "cell_type": "code",
   "execution_count": null,
   "id": "e2f1f82d",
   "metadata": {},
   "outputs": [],
   "source": []
  }
 ],
 "metadata": {
  "kernelspec": {
   "display_name": "Python 3 (ipykernel)",
   "language": "python",
   "name": "python3"
  },
  "language_info": {
   "codemirror_mode": {
    "name": "ipython",
    "version": 3
   },
   "file_extension": ".py",
   "mimetype": "text/x-python",
   "name": "python",
   "nbconvert_exporter": "python",
   "pygments_lexer": "ipython3",
   "version": "3.9.7"
  }
 },
 "nbformat": 4,
 "nbformat_minor": 5
}
